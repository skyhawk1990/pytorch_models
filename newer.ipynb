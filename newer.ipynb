{
 "cells": [
  {
   "cell_type": "markdown",
   "metadata": {},
   "source": [
    "本模块主要用于初步熟悉pytorch，以mnist数据作为例子，了解pytorch神经网络的构建。<br>\n",
    "参考https://github.com/fastai/fastai_docs/tree/master/dev_nb"
   ]
  },
  {
   "cell_type": "markdown",
   "metadata": {},
   "source": [
    "### pathlib使用"
   ]
  },
  {
   "cell_type": "code",
   "execution_count": 1,
   "metadata": {},
   "outputs": [
    {
     "name": "stdout",
     "output_type": "stream",
     "text": [
      "[PosixPath('data_util.py'), PosixPath('README.md'), PosixPath('.gitignore'), PosixPath('logistic_regression.py'), PosixPath('newer.ipynb')]\n",
      "[PosixPath('data_util.py'), PosixPath('logistic_regression.py')]\n",
      "True\n"
     ]
    }
   ],
   "source": [
    "from pathlib import Path\n",
    "\n",
    "# 打印路径下所有文件\n",
    "print([x for x in Path('.').iterdir() if x.is_file()])\n",
    "\n",
    "# 遍历查找python文件\n",
    "print(list(Path('.').glob('**/*.py')))\n",
    "\n",
    "# 查看文件是否存在\n",
    "print((Path('.')/'data_util.py').exists())\n",
    "\n",
    "# 创建文件夹\n",
    "path = Path('data')/'mnist'\n",
    "path.mkdir(parents=True, exist_ok=True)"
   ]
  },
  {
   "cell_type": "markdown",
   "metadata": {},
   "source": [
    "### 下载数据"
   ]
  },
  {
   "cell_type": "code",
   "execution_count": 2,
   "metadata": {},
   "outputs": [],
   "source": [
    "import requests\n",
    "# requests.get(url, params=None, **kwargs)\n",
    "# requests.post(url, data=None, json=None, **kwargs)\n",
    "\n",
    "url='http://deeplearning.net/data/mnist/'\n",
    "filename='mnist.pkl.gz'\n",
    "\n",
    "if not (path/filename).exists():\n",
    "    content = requests.get(url+filename).content\n",
    "    (path/filename).open('wb').write(content)"
   ]
  },
  {
   "cell_type": "markdown",
   "metadata": {},
   "source": [
    "### 读取数据"
   ]
  },
  {
   "cell_type": "code",
   "execution_count": 3,
   "metadata": {},
   "outputs": [],
   "source": [
    "import pickle, gzip\n",
    "with gzip.open(path/filename, 'rb') as f:\n",
    "    ((x_train, y_train), (x_valid, y_valid), _) = pickle.load(f, encoding='latin-1')"
   ]
  },
  {
   "cell_type": "markdown",
   "metadata": {},
   "source": [
    "### 数据预览"
   ]
  },
  {
   "cell_type": "code",
   "execution_count": 30,
   "metadata": {},
   "outputs": [
    {
     "data": {
      "text/plain": [
       "<matplotlib.image.AxesImage at 0x11960a6a0>"
      ]
     },
     "execution_count": 30,
     "metadata": {},
     "output_type": "execute_result"
    },
    {
     "data": {
      "image/png": "[encoded data removed]",
      "text/plain": [
       "<Figure size 432x288 with 4 Axes>"
      ]
     },
     "metadata": {
      "needs_background": "light"
     },
     "output_type": "display_data"
    }
   ],
   "source": [
    "%matplotlib inline\n",
    "import numpy as np\n",
    "from matplotlib import pyplot as plt\n",
    "import seaborn as sn\n",
    "\n",
    "# 参考https://matplotlib.org/api/pyplot_api.html\n",
    "# 参考http://seaborn.pydata.org/api.html\n",
    "\n",
    "plt.figure(1)\n",
    "# 子图1\n",
    "plt.subplot(221)\n",
    "t=np.arange(0,5,0.2)\n",
    "plt.plot(t, t, 'bo', t, t**2, 'k')\n",
    "plt.xlabel('n',fontsize=14,color='red')\n",
    "plt.ylabel('n^2',fontsize=12,color='blue')\n",
    "plt.title('n^2')\n",
    "plt.text(1, 15, r'$\\mu=100,\\ \\sigma=15$')\n",
    "plt.axis([0,5,0,20])\n",
    "# 子图2\n",
    "plt.subplot(222)\n",
    "t=np.arange(0,5,1)\n",
    "plt.bar(t, t**3)\n",
    "plt.axis([0,5,0,50])\n",
    "# 子图3\n",
    "plt.subplot(223)\n",
    "sn.distplot(t)\n",
    "# 子图4\n",
    "plt.subplot(224)\n",
    "plt.imshow(x_train[0].reshape((28,28)), cmap=\"gray\")"
   ]
  },
  {
   "cell_type": "markdown",
   "metadata": {},
   "source": [
    "### 转换成tensor\n",
    "pytorch使用torch.tensor"
   ]
  },
  {
   "cell_type": "code",
   "execution_count": 25,
   "metadata": {
    "scrolled": true
   },
   "outputs": [
    {
     "data": {
      "text/plain": [
       "(tensor([[0., 0., 0.,  ..., 0., 0., 0.],\n",
       "         [0., 0., 0.,  ..., 0., 0., 0.],\n",
       "         [0., 0., 0.,  ..., 0., 0., 0.],\n",
       "         ...,\n",
       "         [0., 0., 0.,  ..., 0., 0., 0.],\n",
       "         [0., 0., 0.,  ..., 0., 0., 0.],\n",
       "         [0., 0., 0.,  ..., 0., 0., 0.]]),\n",
       " torch.Size([50000, 784]),\n",
       " tensor(0),\n",
       " tensor(9))"
      ]
     },
     "execution_count": 25,
     "metadata": {},
     "output_type": "execute_result"
    }
   ],
   "source": [
    "import torch\n",
    "\n",
    "x_train,y_train,x_valid,y_valid = map(torch.tensor, (x_train,y_train,x_valid,y_valid))\n",
    "n,c = x_train.shape\n",
    "x_train, x_train.shape, y_train.min(), y_train.max()"
   ]
  },
  {
   "cell_type": "markdown",
   "metadata": {},
   "source": [
    "### 网络简单实现"
   ]
  },
  {
   "cell_type": "code",
   "execution_count": 31,
   "metadata": {},
   "outputs": [
    {
     "name": "stdout",
     "output_type": "stream",
     "text": [
      "tensor([-2.0049, -2.3384, -2.9095, -2.3667, -2.8304, -3.0138, -1.9534, -2.1692,\n",
      "        -2.2988, -1.8579], grad_fn=<SelectBackward>)\n",
      "torch.Size([64, 10])\n",
      "tensor(2.2247, grad_fn=<NegBackward>)\n",
      "tensor([ -4.3791,  -8.1846,  -5.3384,  -0.9522, -10.0164,  -0.5696,  -6.0120,\n",
      "         -4.1006,  -4.6914,  -5.9999], grad_fn=<SelectBackward>)\n",
      "torch.Size([64, 10])\n",
      "tensor(0.3474, grad_fn=<NegBackward>)\n"
     ]
    },
    {
     "data": {
      "text/plain": [
       "(tensor(0.3091, grad_fn=<NegBackward>), tensor(0.9143))"
      ]
     },
     "execution_count": 31,
     "metadata": {},
     "output_type": "execute_result"
    }
   ],
   "source": [
    "import math\n",
    "\n",
    "weights = torch.randn(784,10)/math.sqrt(784) #  Xavier initialisation (by multiplying with 1/sqrt(n)\n",
    "weights.requires_grad_()\n",
    "bias = torch.zeros(10, requires_grad=True)\n",
    "\n",
    "def log_softmax(x):\n",
    "    # softmax\n",
    "    return x - x.exp().sum(-1).log().unsqueeze(-1)\n",
    "\n",
    "def inference(xb):\n",
    "    # 模型\n",
    "    return log_softmax(xb @ weights + bias) # @表示点积\n",
    "\n",
    "def loss_func(logits, labels): \n",
    "    # negative log-likelihood损失函数\n",
    "    return -logits[range(labels.shape[0]), labels].mean()\n",
    "\n",
    "def accuracy(logits, labels):\n",
    "    # 准确率\n",
    "    preds = torch.argmax(logits, dim=1)\n",
    "    return (preds==labels).float().mean()\n",
    "\n",
    "lr = 0.1\n",
    "epochs = 2\n",
    "batch_size = 64\n",
    "for epoch in range(epochs):\n",
    "    for i in range((n-1)//batch_size + 1):\n",
    "        start_i = i*batch_size\n",
    "        end_i = start_i+batch_size\n",
    "        xb = x_train[start_i:end_i]\n",
    "        yb = y_train[start_i:end_i]\n",
    "        pred = inference(xb)\n",
    "        loss = loss_func(pred, yb)\n",
    "        if epoch==0 and i==0:\n",
    "            print(pred[0])\n",
    "            print(pred.shape)\n",
    "            print(loss)\n",
    "        \n",
    "        loss.backward()\n",
    "        with torch.no_grad():\n",
    "            weights -= weights.grad * lr\n",
    "            bias -= bias.grad * lr\n",
    "            weights.grad.zero_()\n",
    "            bias.grad.zero_()\n",
    "\n",
    "loss_func(inference(x_valid), y_valid), accuracy(inference(x_valid), y_valid)"
   ]
  },
  {
   "cell_type": "markdown",
   "metadata": {},
   "source": [
    "### 用torch实现网络"
   ]
  },
  {
   "cell_type": "code",
   "execution_count": 63,
   "metadata": {},
   "outputs": [
    {
     "name": "stdout",
     "output_type": "stream",
     "text": [
      "0 0.339472701883316\n",
      "1 0.3085630487680435\n"
     ]
    }
   ],
   "source": [
    "from torch.nn.functional import cross_entropy # 损失函数\n",
    "from torch import nn # 网络结构\n",
    "from torch import optim # 优化函数\n",
    "from torch.utils.data import TensorDataset # 数据模块\n",
    "from torch.utils.data import DataLoader # 数据载入模块\n",
    "\n",
    "class Mnist_Logistic(nn.Module):\n",
    "    # 模型部分，自动调用forward\n",
    "    def __init__(self):\n",
    "        super().__init__()\n",
    "        self.lin = nn.Linear(784, 10)\n",
    "\n",
    "    def forward(self, xb): \n",
    "        return self.lin(xb)\n",
    "\n",
    "\n",
    "def loss_batch(model, loss_func, xb, yb, opt=None):\n",
    "    # 优化部分，计算损失并进行优化\n",
    "    loss = loss_func(model(xb), yb)\n",
    "\n",
    "    if opt is not None:\n",
    "        loss.backward()\n",
    "        opt.step()\n",
    "        opt.zero_grad()\n",
    "\n",
    "    return loss.item(), len(xb)\n",
    "\n",
    "\n",
    "def get_data(train_ds, valid_ds, bs):\n",
    "    # 数据分批获取\n",
    "    return (DataLoader(train_ds, batch_size=bs, shuffle=True), DataLoader(valid_ds, batch_size=bs*2))\n",
    "    \n",
    "\n",
    "def get_model():\n",
    "    # 获取模型，损失函数和优化器\n",
    "    model = Mnist_Logistic()\n",
    "    return model, cross_entropy, optim.SGD(model.parameters(), lr=lr)\n",
    "\n",
    "\n",
    "def fit(epochs, model, loss_func, opt, train_dl, valid_dl):\n",
    "    # 训练并评估\n",
    "    for epoch in range(epochs):\n",
    "        model.train()\n",
    "        for xb,yb in train_dl: \n",
    "            loss_batch(model, loss_func, xb, yb, opt)\n",
    "\n",
    "        model.eval()\n",
    "        with torch.no_grad():\n",
    "            losses, nums = zip(*[loss_batch(model, loss_func, xb, yb) for xb,yb in valid_dl])\n",
    "        val_loss = np.sum(np.multiply(losses, nums)) / np.sum(nums)\n",
    "        print(epoch, val_loss)\n",
    "\n",
    "\n",
    "# 参数\n",
    "lr = 0.1\n",
    "epochs = 2\n",
    "batch_size = 64\n",
    "\n",
    "# 主函数\n",
    "train_ds = TensorDataset(x_train, y_train)\n",
    "valid_ds = TensorDataset(x_valid, y_valid)\n",
    "train_dl, valid_dl = get_data(train_ds, valid_ds, batch_size)\n",
    "model, loss_func, opt = get_model()\n",
    "fit(epochs, model, loss_func, opt, train_dl, valid_dl)"
   ]
  },
  {
   "cell_type": "markdown",
   "metadata": {},
   "source": [
    "### 转化为cnn模型"
   ]
  },
  {
   "cell_type": "code",
   "execution_count": 64,
   "metadata": {},
   "outputs": [
    {
     "name": "stdout",
     "output_type": "stream",
     "text": [
      "0 0.3478482967376709\n",
      "1 0.22727216510772705\n"
     ]
    }
   ],
   "source": [
    "from torch.nn.functional import relu, avg_pool2d\n",
    "\n",
    "class Mnist_CNN(nn.Module):\n",
    "    def __init__(self):\n",
    "        super().__init__()\n",
    "        self.conv1 = nn.Conv2d(1,  16, kernel_size=3, stride=2, padding=1)\n",
    "        self.conv2 = nn.Conv2d(16, 16, kernel_size=3, stride=2, padding=1)\n",
    "        self.conv3 = nn.Conv2d(16, 10, kernel_size=3, stride=2, padding=1)\n",
    "\n",
    "    def forward(self, xb):\n",
    "        xb = xb.view(-1,1,28,28)\n",
    "        xb = relu(self.conv1(xb))\n",
    "        xb = relu(self.conv2(xb))\n",
    "        xb = relu(self.conv3(xb))\n",
    "        xb = avg_pool2d(xb, 4)\n",
    "        return xb.view(xb.size(0), -1)\n",
    "\n",
    "\n",
    "def get_model():\n",
    "    model = Mnist_CNN()\n",
    "    opt = optim.SGD(model.parameters(), lr=lr, momentum=0.9)\n",
    "    return model, cross_entropy, opt\n",
    "\n",
    "model, loss_func, opt = get_model()\n",
    "fit(epochs, model, loss_func, opt, train_dl, valid_dl)"
   ]
  },
  {
   "cell_type": "markdown",
   "metadata": {},
   "source": [
    "### 使用Sequential创建模型"
   ]
  },
  {
   "cell_type": "code",
   "execution_count": 65,
   "metadata": {},
   "outputs": [
    {
     "name": "stdout",
     "output_type": "stream",
     "text": [
      "0 0.33131165542602536\n",
      "1 0.2518024257183075\n"
     ]
    }
   ],
   "source": [
    "class Lambda(nn.Module):\n",
    "    def __init__(self, func):\n",
    "        super().__init__()\n",
    "        self.func=func\n",
    "    \n",
    "    def forward(self, x):\n",
    "        return self.func(x)\n",
    "\n",
    "\n",
    "def get_model():\n",
    "    model = nn.Sequential(\n",
    "        Lambda(lambda x: x.view(-1,1,28,28)),\n",
    "        nn.Conv2d(1,  16, kernel_size=3, stride=2, padding=1), nn.ReLU(),\n",
    "        nn.Conv2d(16, 16, kernel_size=3, stride=2, padding=1), nn.ReLU(),\n",
    "        nn.Conv2d(16, 10, kernel_size=3, stride=2, padding=1), nn.ReLU(),\n",
    "        nn.AdaptiveAvgPool2d(1),\n",
    "        Lambda(lambda x: x.view(x.size(0), -1))\n",
    "    )\n",
    "    opt = optim.SGD(model.parameters(), lr=lr, momentum=0.9)\n",
    "    return model, cross_entropy, opt\n",
    "\n",
    "\n",
    "model, loss_func, opt = get_model()\n",
    "fit(epochs, model, loss_func, opt, train_dl, valid_dl)"
   ]
  },
  {
   "cell_type": "markdown",
   "metadata": {},
   "source": [
    "### 模型拓展，使用gpu"
   ]
  },
  {
   "cell_type": "markdown",
   "metadata": {},
   "source": [
    "typing模块：<br>\n",
    "常用类型 <br>\n",
    "int,long,float: 整型,长整形,浮点型; <br>\n",
    "bool,str: 布尔型，字符串类型；<br>\n",
    "List, Tuple, Dict, Set:列表，元组，字典, 集合; <br>\n",
    "Iterable,Iterator:可迭代类型，迭代器类型；<br>\n",
    "Generator：生成器类型 <br>\n",
    "特点 <br>\n",
    "在传入参数时通过“参数名:类型”的形式声明参数的类型； <br>\n",
    "返回结果通过\"-> 结果类型\"的形式声明结果的类型。 <br>\n",
    "在调用的时候如果参数的类型不正确pycharm会有提醒，但不会影响程序的运行。 <br>\n",
    "对于如list列表等，还可以规定得更加具体一些，如：“-> List[str]”,规定返回的是列表，并且元素是字符串。 <br>\n",
    "由于python天生支持多态，迭代器中的元素可能多种，“-> List[int or str]” <br>"
   ]
  },
  {
   "cell_type": "code",
   "execution_count": 1,
   "metadata": {},
   "outputs": [],
   "source": [
    "import pickle, gzip, torch, math, numpy as np, torch.nn.functional as F\n",
    "from pathlib import Path\n",
    "from IPython.core.debugger import set_trace\n",
    "from typing import Any, Collection, Callable, NewType, List, Union, TypeVar, Optional\n",
    "from functools import partial, reduce\n",
    "from numbers import Number\n",
    "\n",
    "from numpy import array\n",
    "from torch import nn, optim, tensor, Tensor\n",
    "from torch.utils.data import TensorDataset, Dataset, DataLoader"
   ]
  },
  {
   "cell_type": "code",
   "execution_count": 2,
   "metadata": {},
   "outputs": [],
   "source": [
    "def mnist2image(b): \n",
    "    # 定义数据转换操作，对数据进行resize\n",
    "    return b.view(1,28,28)\n",
    "\n",
    "class DatasetTfm(Dataset):\n",
    "    # 对数据进行转换\n",
    "    def __init__(self, ds:Dataset, tfm:Callable=None):\n",
    "        self.ds = ds\n",
    "        self.tfm = tfm\n",
    "        \n",
    "    def __len__(self): \n",
    "        return len(self.ds)\n",
    "    \n",
    "    def __getitem__(self,idx:int):\n",
    "        # 对数据进行转换并返回第idx个元素\n",
    "        x,y = self.ds[idx]\n",
    "        if self.tfm is not None: \n",
    "            x = self.tfm(x)\n",
    "        return x,y"
   ]
  },
  {
   "cell_type": "code",
   "execution_count": 3,
   "metadata": {},
   "outputs": [],
   "source": [
    "def ifnone(a:bool, b:Any):\n",
    "    return b if a is None else a\n",
    "\n",
    "def is_listy(x:Any)->bool: \n",
    "    return isinstance(x, (tuple,list))\n",
    "\n",
    "default_device = torch.device('cuda') if torch.cuda.is_available() else torch.device('cpu')\n",
    "Tensors = Union[Tensor, Collection['Tensors']]\n",
    "\n",
    "def to_device(b:Tensors, device:torch.device):\n",
    "    # 将tensors转换到gpu上\n",
    "    device = ifnone(device, default_device)\n",
    "    if is_listy(b): \n",
    "        return [to_device(o, device) for o in b]\n",
    "    return b.to(device)\n",
    "\n",
    "class DeviceDataLoader():\n",
    "    # 载入数据并保证数据在gpu上\n",
    "    def __init__(self, dl:DataLoader, device: torch.device):\n",
    "        self.dl = dl\n",
    "        self.device = device\n",
    "\n",
    "    def __len__(self) -> int: \n",
    "        return len(self.dl)\n",
    "    \n",
    "    def proc_batch(self,b:Tensors): \n",
    "        return to_device(b, self.device)\n",
    "\n",
    "    def __iter__(self)->Tensors:\n",
    "        self.gen = map(self.proc_batch, self.dl)\n",
    "        return iter(self.gen)\n",
    "\n",
    "    @classmethod\n",
    "    def create(cls, *args, device:torch.device=default_device, **kwargs): \n",
    "        return cls(DataLoader(*args, **kwargs), device=device)"
   ]
  },
  {
   "cell_type": "code",
   "execution_count": 4,
   "metadata": {},
   "outputs": [],
   "source": [
    "TItem = TypeVar('TItem')\n",
    "TfmCallable = Callable[[TItem],TItem]\n",
    "TfmList = Union[TfmCallable, Collection[TfmCallable]]\n",
    "Tfms = Optional[TfmList]\n",
    "\n",
    "class DataBunch():\n",
    "    def __init__(self, train_dl: DataLoader, valid_dl: DataLoader, device: torch.device=None):\n",
    "        self.train_dl = train_dl\n",
    "        self.valid_dl = valid_dl\n",
    "        self.device = device\n",
    "\n",
    "    @classmethod\n",
    "    def create(cls, train_ds:Dataset, valid_ds:Dataset, batch_size:int=64, \n",
    "               train_tfm:Tfms=None, valid_tfm:Tfms=None, device:torch.device=None, **kwargs):\n",
    "        return cls(DeviceDataLoader.create(DatasetTfm(train_ds, train_tfm), batch_size, shuffle=True, device=device, **kwargs),\n",
    "                   DeviceDataLoader.create(DatasetTfm(valid_ds, valid_tfm), batch_size*2, shuffle=False, device=device, **kwargs),\n",
    "                   device=device)"
   ]
  },
  {
   "cell_type": "code",
   "execution_count": 5,
   "metadata": {},
   "outputs": [],
   "source": [
    "LambdaFunc = Callable[[Tensor],Tensor]\n",
    "class Lambda(nn.Module):\n",
    "    \"An easy way to create a pytorch layer for a simple `func`\"\n",
    "    def __init__(self, func:LambdaFunc):\n",
    "        \"create a layer that simply calls `func` with `x`\"\n",
    "        super().__init__()\n",
    "        self.func=func\n",
    "        \n",
    "    def forward(self, x): return self.func(x)\n",
    "\n",
    "\n",
    "def noop(x): return x\n",
    "\n",
    "def ResizeBatch(*size:int) -> Tensor: \n",
    "    # 修改输入大小到指定维度\n",
    "    return Lambda(lambda x: x.view((-1,)+size))\n",
    "\n",
    "def Flatten()->Tensor: \n",
    "    # 将输入变为1维\n",
    "    return Lambda(lambda x: x.view((x.size(0), -1)))\n",
    "\n",
    "def PoolFlatten()->nn.Sequential:\n",
    "    # 先池化再平滑\n",
    "    return nn.Sequential(nn.AdaptiveAvgPool2d(1), Flatten())\n",
    "\n",
    "def conv2d(ni:int, nf:int, ks:int=3, stride:int=1, padding:int=None, bias=False) -> nn.Conv2d:\n",
    "    # 卷积层\n",
    "    if padding is None: \n",
    "        padding = ks//2\n",
    "    return nn.Conv2d(ni, nf, kernel_size=ks, stride=stride, padding=padding, bias=bias)\n",
    "\n",
    "def conv2d_relu(ni:int, nf:int, ks:int=3, stride:int=1, padding:int=None, bn:bool=False) -> nn.Sequential:\n",
    "    # 卷积层+relu+batchnormalization\n",
    "    layers = [conv2d(ni, nf, ks=ks, stride=stride, padding=padding), nn.ReLU()]\n",
    "    if bn: \n",
    "        layers.append(nn.BatchNorm2d(nf))\n",
    "    return nn.Sequential(*layers)\n",
    "\n",
    "def conv2d_trans(ni:int, nf:int, ks:int=2, stride:int=2, padding:int=0) -> nn.ConvTranspose2d:\n",
    "    # 反卷积层\n",
    "    return nn.ConvTranspose2d(ni, nf, kernel_size=ks, stride=stride, padding=padding)\n",
    "\n",
    "def simple_cnn(actns:Collection[int], kernel_szs:Collection[int], strides:Collection[int]) -> nn.Sequential:\n",
    "    # 构造cnn\n",
    "    layers = [conv2d_relu(actns[i], actns[i+1], kernel_szs[i], stride=strides[i]) for i in range(len(strides))]\n",
    "    layers.append(PoolFlatten())\n",
    "    return nn.Sequential(*layers)"
   ]
  },
  {
   "cell_type": "code",
   "execution_count": 6,
   "metadata": {},
   "outputs": [],
   "source": [
    "Rank0Tensor = NewType('OneEltTensor', Tensor)\n",
    "LossFunction = Callable[[Tensor, Tensor], Rank0Tensor]\n",
    "Model = nn.Module\n",
    "\n",
    "def loss_batch(model:Model, xb:Tensor, yb:Tensor, loss_fn:LossFunction, opt:optim.Optimizer=None):\n",
    "    # 计算批次损失函数\n",
    "    if not is_listy(xb): xb = [xb]\n",
    "    if not is_listy(yb): yb = [yb]\n",
    "    loss = loss_fn(model(*xb), *yb)\n",
    "\n",
    "    if opt is not None:\n",
    "        loss.backward()\n",
    "        opt.step()\n",
    "        opt.zero_grad()\n",
    "        \n",
    "    return loss.item(), len(yb)\n",
    "\n",
    "def fit(epochs:int, model:Model, loss_fn:LossFunction, opt:optim.Optimizer, train_dl:DataLoader, valid_dl:DataLoader):\n",
    "    \"Train `model` on `train_dl` with `optim` then validate against `valid_dl`\"\n",
    "    for epoch in range(epochs):\n",
    "        model.train()\n",
    "        for xb,yb in train_dl: loss,_ = loss_batch(model, xb, yb, loss_fn, opt)\n",
    "\n",
    "        model.eval()\n",
    "        with torch.no_grad():\n",
    "            losses,nums = zip(*[loss_batch(model, xb, yb, loss_fn) for xb,yb in valid_dl])\n",
    "        val_loss = np.sum(np.multiply(losses,nums)) / np.sum(nums)\n",
    "\n",
    "        print(epoch, val_loss)\n",
    "\n",
    "class Learner():\n",
    "    # 训练模型\n",
    "    def __init__(self, data:DataBunch, model:Model):\n",
    "        self.data,self.model = data,to_device(model, data.device)\n",
    "\n",
    "    def fit(self, epochs, lr, loss_fn=F.cross_entropy, opt_fn=optim.SGD):\n",
    "        opt = opt_fn(self.model.parameters(), lr=lr)\n",
    "        fit(epochs, self.model, loss_fn, opt, self.data.train_dl, self.data.valid_dl)"
   ]
  },
  {
   "cell_type": "code",
   "execution_count": 7,
   "metadata": {},
   "outputs": [
    {
     "name": "stdout",
     "output_type": "stream",
     "text": [
      "0 0.37553350797182394\n",
      "1 0.26548658396247066\n"
     ]
    }
   ],
   "source": [
    "path = Path('data')/'mnist'\n",
    "filename='mnist.pkl.gz'\n",
    "lr = 0.1\n",
    "with gzip.open(path/filename, 'rb') as f:\n",
    "    ((x_train, y_train), (x_valid, y_valid), _) = pickle.load(f, encoding='latin-1')\n",
    "x_train,y_train,x_valid,y_valid = map(torch.tensor, (x_train,y_train,x_valid,y_valid))\n",
    "train_ds = TensorDataset(x_train, y_train)\n",
    "valid_ds = TensorDataset(x_valid, y_valid)\n",
    "\n",
    "data = DataBunch.create(train_ds, valid_ds, batch_size=64, train_tfm=mnist2image, valid_tfm=mnist2image)\n",
    "model = simple_cnn([1,16,16,10], [3,3,3], [2,2,2])\n",
    "learner = Learner(data, model)\n",
    "opt_fn = partial(optim.SGD, momentum=0.9) # 固定部分参数\n",
    "learner.fit(2, lr, opt_fn=opt_fn)"
   ]
  },
  {
   "cell_type": "code",
   "execution_count": null,
   "metadata": {},
   "outputs": [],
   "source": []
  }
 ],
 "metadata": {
  "kernelspec": {
   "display_name": "Python 3",
   "language": "python",
   "name": "python3"
  },
  "language_info": {
   "codemirror_mode": {
    "name": "ipython",
    "version": 3
   },
   "file_extension": ".py",
   "mimetype": "text/x-python",
   "name": "python",
   "nbconvert_exporter": "python",
   "pygments_lexer": "ipython3",
   "version": "3.6.6"
  }
 },
 "nbformat": 4,
 "nbformat_minor": 1
}
