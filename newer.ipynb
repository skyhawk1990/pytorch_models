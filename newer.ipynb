{
 "cells": [
  {
   "cell_type": "code",
   "execution_count": null,
   "metadata": {
    "collapsed": true
   },
   "outputs": [],
   "source": [
    "# pathlib使用\n",
    "from pathlib import Path\n",
    "\n",
    "# 打印路径下所有文件\n",
    "print([x for x in Path('.').iterdir() if x.is_file()])\n",
    "\n",
    "# 遍历查找python文件\n",
    "print(list(Path('.').glob('**/*.py')))\n",
    "\n",
    "# 创建文件夹\n",
    "path = Path('data')/'mnist'\n",
    "path.mkdir(parents=True, exist_ok=True)"
   ]
  },
  {
   "cell_type": "code",
   "execution_count": null,
   "metadata": {},
   "outputs": [],
   "source": [
    "# 下载数据\n",
    "import requests\n",
    "url='http://deeplearning.net/data/mnist/'\n",
    "filename='mnist.pkl.gz'\n",
    "\n",
    "if not (path/filename).exists():\n",
    "    content = requests.get(url+filename).content\n",
    "    (path/filename).open('wb').write(content)"
   ]
  },
  {
   "cell_type": "code",
   "execution_count": null,
   "metadata": {},
   "outputs": [],
   "source": [
    "# 读取数据\n",
    "%matplotlib inline\n",
    "from matplotlib import pyplot\n",
    "import pickle, gzip\n",
    "with gzip.open(path/filename, 'rb') as f:\n",
    "    ((x_train, y_train), (x_valid, y_valid), _) = pickle.load(f, encoding='latin-1')\n",
    "\n",
    "pyplot.imshow(x_train[0].reshape((28,28)), cmap=\"gray\")"
   ]
  }
 ],
 "metadata": {
  "kernelspec": {
   "display_name": "Python 2",
   "language": "python",
   "name": "python2"
  },
  "language_info": {
   "codemirror_mode": {
    "name": "ipython",
    "version": 2
   },
   "file_extension": ".py",
   "mimetype": "text/x-python",
   "name": "python",
   "nbconvert_exporter": "python",
   "pygments_lexer": "ipython2",
   "version": "2.7.6"
  }
 },
 "nbformat": 4,
 "nbformat_minor": 0
}
